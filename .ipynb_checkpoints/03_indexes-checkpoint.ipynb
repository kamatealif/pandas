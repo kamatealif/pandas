{
 "cells": [
  {
   "cell_type": "code",
   "execution_count": 1,
   "id": "9cfef100-6423-4541-bae3-50edf6981689",
   "metadata": {},
   "outputs": [],
   "source": [
    "import pandas as pd"
   ]
  },
  {
   "cell_type": "code",
   "execution_count": 14,
   "id": "9c64df66-cc66-4b95-9127-c351d544398f",
   "metadata": {},
   "outputs": [],
   "source": [
    "people = {\n",
    "    'first':['alif','kunal','amir'],\n",
    "    'last':['kamate','chavan','nadaf'],\n",
    "    'email':['alif@gmail.com','kunal@gmail.com','amir@gmail.com'],\n",
    "    'id':[1,2,3]\n",
    "}"
   ]
  },
  {
   "cell_type": "code",
   "execution_count": 15,
   "id": "5c5802d4-120b-4b46-8942-4082f99ec239",
   "metadata": {},
   "outputs": [],
   "source": [
    "df = pd.DataFrame(people)"
   ]
  },
  {
   "cell_type": "code",
   "execution_count": 16,
   "id": "67843506-8539-457c-9df3-4b15dfbe5465",
   "metadata": {},
   "outputs": [
    {
     "data": {
      "text/html": [
       "<div>\n",
       "<style scoped>\n",
       "    .dataframe tbody tr th:only-of-type {\n",
       "        vertical-align: middle;\n",
       "    }\n",
       "\n",
       "    .dataframe tbody tr th {\n",
       "        vertical-align: top;\n",
       "    }\n",
       "\n",
       "    .dataframe thead th {\n",
       "        text-align: right;\n",
       "    }\n",
       "</style>\n",
       "<table border=\"1\" class=\"dataframe\">\n",
       "  <thead>\n",
       "    <tr style=\"text-align: right;\">\n",
       "      <th></th>\n",
       "      <th>first</th>\n",
       "      <th>last</th>\n",
       "      <th>email</th>\n",
       "      <th>id</th>\n",
       "    </tr>\n",
       "  </thead>\n",
       "  <tbody>\n",
       "    <tr>\n",
       "      <th>0</th>\n",
       "      <td>alif</td>\n",
       "      <td>kamate</td>\n",
       "      <td>alif@gmail.com</td>\n",
       "      <td>1</td>\n",
       "    </tr>\n",
       "    <tr>\n",
       "      <th>1</th>\n",
       "      <td>kunal</td>\n",
       "      <td>chavan</td>\n",
       "      <td>kunal@gmail.com</td>\n",
       "      <td>2</td>\n",
       "    </tr>\n",
       "    <tr>\n",
       "      <th>2</th>\n",
       "      <td>amir</td>\n",
       "      <td>nadaf</td>\n",
       "      <td>amir@gmail.com</td>\n",
       "      <td>3</td>\n",
       "    </tr>\n",
       "  </tbody>\n",
       "</table>\n",
       "</div>"
      ],
      "text/plain": [
       "   first    last            email  id\n",
       "0   alif  kamate   alif@gmail.com   1\n",
       "1  kunal  chavan  kunal@gmail.com   2\n",
       "2   amir   nadaf   amir@gmail.com   3"
      ]
     },
     "execution_count": 16,
     "metadata": {},
     "output_type": "execute_result"
    }
   ],
   "source": [
    "df"
   ]
  },
  {
   "cell_type": "code",
   "execution_count": 17,
   "id": "f693960e-2b06-4440-bbb1-af10a9d0a554",
   "metadata": {},
   "outputs": [
    {
     "data": {
      "text/plain": [
       "0     alif@gmail.com\n",
       "1    kunal@gmail.com\n",
       "2     amir@gmail.com\n",
       "Name: email, dtype: object"
      ]
     },
     "execution_count": 17,
     "metadata": {},
     "output_type": "execute_result"
    }
   ],
   "source": [
    "df['email']"
   ]
  },
  {
   "cell_type": "code",
   "execution_count": 22,
   "id": "4e03b3f8-a158-4837-9800-9cf8dd48859a",
   "metadata": {},
   "outputs": [],
   "source": [
    "df.set_index('first', inplace=True)"
   ]
  },
  {
   "cell_type": "code",
   "execution_count": 23,
   "id": "20753744-34fb-433f-bb4d-284d63e5fe88",
   "metadata": {},
   "outputs": [
    {
     "data": {
      "text/html": [
       "<div>\n",
       "<style scoped>\n",
       "    .dataframe tbody tr th:only-of-type {\n",
       "        vertical-align: middle;\n",
       "    }\n",
       "\n",
       "    .dataframe tbody tr th {\n",
       "        vertical-align: top;\n",
       "    }\n",
       "\n",
       "    .dataframe thead th {\n",
       "        text-align: right;\n",
       "    }\n",
       "</style>\n",
       "<table border=\"1\" class=\"dataframe\">\n",
       "  <thead>\n",
       "    <tr style=\"text-align: right;\">\n",
       "      <th></th>\n",
       "      <th>last</th>\n",
       "      <th>email</th>\n",
       "    </tr>\n",
       "    <tr>\n",
       "      <th>first</th>\n",
       "      <th></th>\n",
       "      <th></th>\n",
       "    </tr>\n",
       "  </thead>\n",
       "  <tbody>\n",
       "    <tr>\n",
       "      <th>alif</th>\n",
       "      <td>kamate</td>\n",
       "      <td>alif@gmail.com</td>\n",
       "    </tr>\n",
       "    <tr>\n",
       "      <th>kunal</th>\n",
       "      <td>chavan</td>\n",
       "      <td>kunal@gmail.com</td>\n",
       "    </tr>\n",
       "    <tr>\n",
       "      <th>amir</th>\n",
       "      <td>nadaf</td>\n",
       "      <td>amir@gmail.com</td>\n",
       "    </tr>\n",
       "  </tbody>\n",
       "</table>\n",
       "</div>"
      ],
      "text/plain": [
       "         last            email\n",
       "first                         \n",
       "alif   kamate   alif@gmail.com\n",
       "kunal  chavan  kunal@gmail.com\n",
       "amir    nadaf   amir@gmail.com"
      ]
     },
     "execution_count": 23,
     "metadata": {},
     "output_type": "execute_result"
    }
   ],
   "source": [
    "df"
   ]
  },
  {
   "cell_type": "code",
   "execution_count": 24,
   "id": "8d8cd87f-b83a-4d97-b616-967f9857eb64",
   "metadata": {},
   "outputs": [
    {
     "data": {
      "text/plain": [
       "Index(['alif', 'kunal', 'amir'], dtype='object', name='first')"
      ]
     },
     "execution_count": 24,
     "metadata": {},
     "output_type": "execute_result"
    }
   ],
   "source": [
    "df.index"
   ]
  },
  {
   "cell_type": "code",
   "execution_count": 27,
   "id": "a427fb4b-5777-4189-b97e-781d78492c7c",
   "metadata": {},
   "outputs": [
    {
     "data": {
      "text/plain": [
       "'kamate'"
      ]
     },
     "execution_count": 27,
     "metadata": {},
     "output_type": "execute_result"
    }
   ],
   "source": [
    "df.loc['alif', 'last']"
   ]
  },
  {
   "cell_type": "code",
   "execution_count": 28,
   "id": "55870faa-bdb0-4877-a3bf-8995d6137dd7",
   "metadata": {},
   "outputs": [
    {
     "data": {
      "text/plain": [
       "last             kamate\n",
       "email    alif@gmail.com\n",
       "Name: alif, dtype: object"
      ]
     },
     "execution_count": 28,
     "metadata": {},
     "output_type": "execute_result"
    }
   ],
   "source": [
    "df.iloc[0]"
   ]
  },
  {
   "cell_type": "code",
   "execution_count": 29,
   "id": "a08540a7-c0cb-45cd-beb7-6dabc5ebeaa5",
   "metadata": {},
   "outputs": [],
   "source": [
    "df.reset_index(inplace=True)"
   ]
  },
  {
   "cell_type": "code",
   "execution_count": 30,
   "id": "895a250c-1633-48f9-bce9-69b8c43a8f69",
   "metadata": {},
   "outputs": [
    {
     "data": {
      "text/html": [
       "<div>\n",
       "<style scoped>\n",
       "    .dataframe tbody tr th:only-of-type {\n",
       "        vertical-align: middle;\n",
       "    }\n",
       "\n",
       "    .dataframe tbody tr th {\n",
       "        vertical-align: top;\n",
       "    }\n",
       "\n",
       "    .dataframe thead th {\n",
       "        text-align: right;\n",
       "    }\n",
       "</style>\n",
       "<table border=\"1\" class=\"dataframe\">\n",
       "  <thead>\n",
       "    <tr style=\"text-align: right;\">\n",
       "      <th></th>\n",
       "      <th>first</th>\n",
       "      <th>last</th>\n",
       "      <th>email</th>\n",
       "    </tr>\n",
       "  </thead>\n",
       "  <tbody>\n",
       "    <tr>\n",
       "      <th>0</th>\n",
       "      <td>alif</td>\n",
       "      <td>kamate</td>\n",
       "      <td>alif@gmail.com</td>\n",
       "    </tr>\n",
       "    <tr>\n",
       "      <th>1</th>\n",
       "      <td>kunal</td>\n",
       "      <td>chavan</td>\n",
       "      <td>kunal@gmail.com</td>\n",
       "    </tr>\n",
       "    <tr>\n",
       "      <th>2</th>\n",
       "      <td>amir</td>\n",
       "      <td>nadaf</td>\n",
       "      <td>amir@gmail.com</td>\n",
       "    </tr>\n",
       "  </tbody>\n",
       "</table>\n",
       "</div>"
      ],
      "text/plain": [
       "   first    last            email\n",
       "0   alif  kamate   alif@gmail.com\n",
       "1  kunal  chavan  kunal@gmail.com\n",
       "2   amir   nadaf   amir@gmail.com"
      ]
     },
     "execution_count": 30,
     "metadata": {},
     "output_type": "execute_result"
    }
   ],
   "source": [
    "df"
   ]
  },
  {
   "cell_type": "code",
   "execution_count": null,
   "id": "4248512b-34c4-4627-a3d1-0a7e1addbe02",
   "metadata": {},
   "outputs": [],
   "source": []
  }
 ],
 "metadata": {
  "kernelspec": {
   "display_name": "Python 3 (ipykernel)",
   "language": "python",
   "name": "python3"
  },
  "language_info": {
   "codemirror_mode": {
    "name": "ipython",
    "version": 3
   },
   "file_extension": ".py",
   "mimetype": "text/x-python",
   "name": "python",
   "nbconvert_exporter": "python",
   "pygments_lexer": "ipython3",
   "version": "3.12.2"
  }
 },
 "nbformat": 4,
 "nbformat_minor": 5
}
