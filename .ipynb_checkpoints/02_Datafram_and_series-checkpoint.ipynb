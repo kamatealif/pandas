{
 "cells": [
  {
   "cell_type": "code",
   "execution_count": 9,
   "id": "d33a8832-382f-4f87-be00-822285df2176",
   "metadata": {},
   "outputs": [],
   "source": [
    "import pandas as pd"
   ]
  },
  {
   "cell_type": "code",
   "execution_count": 10,
   "id": "a50d4cb3-a399-4e76-ba8e-ca0630c4fa09",
   "metadata": {},
   "outputs": [],
   "source": [
    "person ={\n",
    "    \"First\": \"Alif\",\n",
    "    \"Last\":\"Kamate\",\n",
    "    \"Email\":\"Alifkamate@gmail.com\"\n",
    "}"
   ]
  },
  {
   "cell_type": "code",
   "execution_count": 11,
   "id": "89ae326f-7705-4be0-8553-ec9eecf7b50c",
   "metadata": {},
   "outputs": [],
   "source": [
    "people ={\n",
    "    'first':['corey'],\n",
    "    'last':['schafer'],\n",
    "    'email':['coreyMSchafer@gmail.com']\n",
    "}"
   ]
  },
  {
   "cell_type": "code",
   "execution_count": 12,
   "id": "6c62defc-ce4c-49ee-813c-3ff0ca7276da",
   "metadata": {},
   "outputs": [],
   "source": [
    "people = {\n",
    "    'first':['alif','kunal','amir'],\n",
    "    'last':['kamate','chavan','nadaf'],\n",
    "    'email':['alif@gmail.com','kunal@gmail.com','amir@gmail.com']\n",
    "}"
   ]
  },
  {
   "cell_type": "code",
   "execution_count": 13,
   "id": "048f4c62-23be-4f15-8272-224afd152866",
   "metadata": {},
   "outputs": [
    {
     "data": {
      "text/plain": [
       "['alif@gmail.com', 'kunal@gmail.com', 'amir@gmail.com']"
      ]
     },
     "execution_count": 13,
     "metadata": {},
     "output_type": "execute_result"
    }
   ],
   "source": [
    "people['email']"
   ]
  },
  {
   "cell_type": "code",
   "execution_count": 14,
   "id": "986e7582-81ae-4228-88ef-5fa37df6c939",
   "metadata": {},
   "outputs": [],
   "source": [
    "df = pd.DataFrame(people)"
   ]
  },
  {
   "cell_type": "code",
   "execution_count": 15,
   "id": "08d7aab6-8121-438d-be50-78c681d96638",
   "metadata": {},
   "outputs": [
    {
     "data": {
      "text/html": [
       "<div>\n",
       "<style scoped>\n",
       "    .dataframe tbody tr th:only-of-type {\n",
       "        vertical-align: middle;\n",
       "    }\n",
       "\n",
       "    .dataframe tbody tr th {\n",
       "        vertical-align: top;\n",
       "    }\n",
       "\n",
       "    .dataframe thead th {\n",
       "        text-align: right;\n",
       "    }\n",
       "</style>\n",
       "<table border=\"1\" class=\"dataframe\">\n",
       "  <thead>\n",
       "    <tr style=\"text-align: right;\">\n",
       "      <th></th>\n",
       "      <th>first</th>\n",
       "      <th>last</th>\n",
       "      <th>email</th>\n",
       "    </tr>\n",
       "  </thead>\n",
       "  <tbody>\n",
       "    <tr>\n",
       "      <th>0</th>\n",
       "      <td>alif</td>\n",
       "      <td>kamate</td>\n",
       "      <td>alif@gmail.com</td>\n",
       "    </tr>\n",
       "    <tr>\n",
       "      <th>1</th>\n",
       "      <td>kunal</td>\n",
       "      <td>chavan</td>\n",
       "      <td>kunal@gmail.com</td>\n",
       "    </tr>\n",
       "    <tr>\n",
       "      <th>2</th>\n",
       "      <td>amir</td>\n",
       "      <td>nadaf</td>\n",
       "      <td>amir@gmail.com</td>\n",
       "    </tr>\n",
       "  </tbody>\n",
       "</table>\n",
       "</div>"
      ],
      "text/plain": [
       "   first    last            email\n",
       "0   alif  kamate   alif@gmail.com\n",
       "1  kunal  chavan  kunal@gmail.com\n",
       "2   amir   nadaf   amir@gmail.com"
      ]
     },
     "execution_count": 15,
     "metadata": {},
     "output_type": "execute_result"
    }
   ],
   "source": [
    "df"
   ]
  },
  {
   "cell_type": "code",
   "execution_count": null,
   "id": "660cd5a3-ad0c-4291-9123-96246727e7e0",
   "metadata": {},
   "outputs": [],
   "source": []
  }
 ],
 "metadata": {
  "kernelspec": {
   "display_name": "Python 3 (ipykernel)",
   "language": "python",
   "name": "python3"
  },
  "language_info": {
   "codemirror_mode": {
    "name": "ipython",
    "version": 3
   },
   "file_extension": ".py",
   "mimetype": "text/x-python",
   "name": "python",
   "nbconvert_exporter": "python",
   "pygments_lexer": "ipython3",
   "version": "3.12.2"
  }
 },
 "nbformat": 4,
 "nbformat_minor": 5
}
