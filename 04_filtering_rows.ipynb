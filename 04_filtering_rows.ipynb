{
 "cells": [
  {
   "cell_type": "code",
   "execution_count": 1,
   "id": "4957855b-19b4-4ca4-b1d9-e962d0ad0550",
   "metadata": {},
   "outputs": [],
   "source": [
    "import pandas as pd "
   ]
  },
  {
   "cell_type": "code",
   "execution_count": 2,
   "id": "1a1a9c85-9ee8-4d02-9559-071cde57af25",
   "metadata": {},
   "outputs": [],
   "source": [
    "people = {\n",
    "    \"name\":['alif','john','jane'],\n",
    "    'Last':['Kamate','Doe','Doe'],\n",
    "    'Age':[21,22,21],\n",
    "    'Email':[\"alif@gmail.com\",'john@gmail.com','jane@gmail.com'],\n",
    "    'Sex' :['male','male','female']\n",
    "}"
   ]
  },
  {
   "cell_type": "code",
   "execution_count": 3,
   "id": "1b4954fd-0553-4123-a2bf-a682607f5823",
   "metadata": {},
   "outputs": [],
   "source": [
    "df = pd.DataFrame(people)"
   ]
  },
  {
   "cell_type": "code",
   "execution_count": 4,
   "id": "b7fdbeb7-9a3a-4a9d-9392-23bc835fed22",
   "metadata": {},
   "outputs": [
    {
     "data": {
      "text/html": [
       "<div>\n",
       "<style scoped>\n",
       "    .dataframe tbody tr th:only-of-type {\n",
       "        vertical-align: middle;\n",
       "    }\n",
       "\n",
       "    .dataframe tbody tr th {\n",
       "        vertical-align: top;\n",
       "    }\n",
       "\n",
       "    .dataframe thead th {\n",
       "        text-align: right;\n",
       "    }\n",
       "</style>\n",
       "<table border=\"1\" class=\"dataframe\">\n",
       "  <thead>\n",
       "    <tr style=\"text-align: right;\">\n",
       "      <th></th>\n",
       "      <th>name</th>\n",
       "      <th>Last</th>\n",
       "      <th>Age</th>\n",
       "      <th>Email</th>\n",
       "      <th>Sex</th>\n",
       "    </tr>\n",
       "  </thead>\n",
       "  <tbody>\n",
       "    <tr>\n",
       "      <th>0</th>\n",
       "      <td>alif</td>\n",
       "      <td>Kamate</td>\n",
       "      <td>21</td>\n",
       "      <td>alif@gmail.com</td>\n",
       "      <td>male</td>\n",
       "    </tr>\n",
       "    <tr>\n",
       "      <th>1</th>\n",
       "      <td>john</td>\n",
       "      <td>Doe</td>\n",
       "      <td>22</td>\n",
       "      <td>john@gmail.com</td>\n",
       "      <td>male</td>\n",
       "    </tr>\n",
       "    <tr>\n",
       "      <th>2</th>\n",
       "      <td>jane</td>\n",
       "      <td>Doe</td>\n",
       "      <td>21</td>\n",
       "      <td>jane@gmail.com</td>\n",
       "      <td>female</td>\n",
       "    </tr>\n",
       "  </tbody>\n",
       "</table>\n",
       "</div>"
      ],
      "text/plain": [
       "   name    Last  Age           Email     Sex\n",
       "0  alif  Kamate   21  alif@gmail.com    male\n",
       "1  john     Doe   22  john@gmail.com    male\n",
       "2  jane     Doe   21  jane@gmail.com  female"
      ]
     },
     "execution_count": 4,
     "metadata": {},
     "output_type": "execute_result"
    }
   ],
   "source": [
    "df"
   ]
  },
  {
   "cell_type": "markdown",
   "id": "29818a9f-0f49-4281-a1e7-7b1519375b25",
   "metadata": {},
   "source": [
    "## from the <kbd>Pandas </kbd> docs"
   ]
  },
  {
   "cell_type": "code",
   "execution_count": 5,
   "id": "8a571b4d-c507-4502-beac-584a2051ed09",
   "metadata": {},
   "outputs": [
    {
     "data": {
      "text/html": [
       "<div>\n",
       "<style scoped>\n",
       "    .dataframe tbody tr th:only-of-type {\n",
       "        vertical-align: middle;\n",
       "    }\n",
       "\n",
       "    .dataframe tbody tr th {\n",
       "        vertical-align: top;\n",
       "    }\n",
       "\n",
       "    .dataframe thead th {\n",
       "        text-align: right;\n",
       "    }\n",
       "</style>\n",
       "<table border=\"1\" class=\"dataframe\">\n",
       "  <thead>\n",
       "    <tr style=\"text-align: right;\">\n",
       "      <th></th>\n",
       "      <th>Age</th>\n",
       "      <th>Sex</th>\n",
       "    </tr>\n",
       "  </thead>\n",
       "  <tbody>\n",
       "    <tr>\n",
       "      <th>0</th>\n",
       "      <td>21</td>\n",
       "      <td>male</td>\n",
       "    </tr>\n",
       "    <tr>\n",
       "      <th>1</th>\n",
       "      <td>22</td>\n",
       "      <td>male</td>\n",
       "    </tr>\n",
       "    <tr>\n",
       "      <th>2</th>\n",
       "      <td>21</td>\n",
       "      <td>female</td>\n",
       "    </tr>\n",
       "  </tbody>\n",
       "</table>\n",
       "</div>"
      ],
      "text/plain": [
       "   Age     Sex\n",
       "0   21    male\n",
       "1   22    male\n",
       "2   21  female"
      ]
     },
     "execution_count": 5,
     "metadata": {},
     "output_type": "execute_result"
    }
   ],
   "source": [
    "age_sex = df[['Age','Sex']]\n",
    "age_sex"
   ]
  },
  {
   "cell_type": "markdown",
   "id": "2f81d501-6de7-43bb-b5a6-fa46cbd32d88",
   "metadata": {},
   "source": [
    "## how do i filter specific rows froma <kbd>DataFrame</kbd>"
   ]
  },
  {
   "cell_type": "code",
   "execution_count": 6,
   "id": "47d3656a-9e8d-421c-a51d-df2eefd48f46",
   "metadata": {},
   "outputs": [
    {
     "data": {
      "text/html": [
       "<div>\n",
       "<style scoped>\n",
       "    .dataframe tbody tr th:only-of-type {\n",
       "        vertical-align: middle;\n",
       "    }\n",
       "\n",
       "    .dataframe tbody tr th {\n",
       "        vertical-align: top;\n",
       "    }\n",
       "\n",
       "    .dataframe thead th {\n",
       "        text-align: right;\n",
       "    }\n",
       "</style>\n",
       "<table border=\"1\" class=\"dataframe\">\n",
       "  <thead>\n",
       "    <tr style=\"text-align: right;\">\n",
       "      <th></th>\n",
       "      <th>name</th>\n",
       "      <th>Last</th>\n",
       "      <th>Age</th>\n",
       "      <th>Email</th>\n",
       "      <th>Sex</th>\n",
       "    </tr>\n",
       "  </thead>\n",
       "  <tbody>\n",
       "    <tr>\n",
       "      <th>1</th>\n",
       "      <td>john</td>\n",
       "      <td>Doe</td>\n",
       "      <td>22</td>\n",
       "      <td>john@gmail.com</td>\n",
       "      <td>male</td>\n",
       "    </tr>\n",
       "  </tbody>\n",
       "</table>\n",
       "</div>"
      ],
      "text/plain": [
       "   name Last  Age           Email   Sex\n",
       "1  john  Doe   22  john@gmail.com  male"
      ]
     },
     "execution_count": 6,
     "metadata": {},
     "output_type": "execute_result"
    }
   ],
   "source": [
    "above_35 = df[df['Age'] > 21]\n",
    "above_35"
   ]
  },
  {
   "cell_type": "markdown",
   "id": "a1251fb4-d395-4140-b0fd-a3bf88c0ea68",
   "metadata": {},
   "source": [
    "## from corey schafer"
   ]
  },
  {
   "cell_type": "code",
   "execution_count": 7,
   "id": "b04938c3-1696-429a-b8e3-88a6cb72e4bd",
   "metadata": {},
   "outputs": [
    {
     "data": {
      "text/plain": [
       "0    False\n",
       "1     True\n",
       "2     True\n",
       "Name: Last, dtype: bool"
      ]
     },
     "execution_count": 7,
     "metadata": {},
     "output_type": "execute_result"
    }
   ],
   "source": [
    "df['Last'] == 'Doe'"
   ]
  },
  {
   "cell_type": "code",
   "execution_count": 8,
   "id": "93129746-630a-4e9e-bb23-9e6e6413e243",
   "metadata": {},
   "outputs": [
    {
     "data": {
      "text/html": [
       "<div>\n",
       "<style scoped>\n",
       "    .dataframe tbody tr th:only-of-type {\n",
       "        vertical-align: middle;\n",
       "    }\n",
       "\n",
       "    .dataframe tbody tr th {\n",
       "        vertical-align: top;\n",
       "    }\n",
       "\n",
       "    .dataframe thead th {\n",
       "        text-align: right;\n",
       "    }\n",
       "</style>\n",
       "<table border=\"1\" class=\"dataframe\">\n",
       "  <thead>\n",
       "    <tr style=\"text-align: right;\">\n",
       "      <th></th>\n",
       "      <th>name</th>\n",
       "      <th>Last</th>\n",
       "      <th>Age</th>\n",
       "      <th>Email</th>\n",
       "      <th>Sex</th>\n",
       "    </tr>\n",
       "  </thead>\n",
       "  <tbody>\n",
       "    <tr>\n",
       "      <th>1</th>\n",
       "      <td>john</td>\n",
       "      <td>Doe</td>\n",
       "      <td>22</td>\n",
       "      <td>john@gmail.com</td>\n",
       "      <td>male</td>\n",
       "    </tr>\n",
       "    <tr>\n",
       "      <th>2</th>\n",
       "      <td>jane</td>\n",
       "      <td>Doe</td>\n",
       "      <td>21</td>\n",
       "      <td>jane@gmail.com</td>\n",
       "      <td>female</td>\n",
       "    </tr>\n",
       "  </tbody>\n",
       "</table>\n",
       "</div>"
      ],
      "text/plain": [
       "   name Last  Age           Email     Sex\n",
       "1  john  Doe   22  john@gmail.com    male\n",
       "2  jane  Doe   21  jane@gmail.com  female"
      ]
     },
     "execution_count": 8,
     "metadata": {},
     "output_type": "execute_result"
    }
   ],
   "source": [
    "filt = (df['Last'] == 'Doe')\n",
    "df[df['Last'] == 'Doe'] # this is also valid "
   ]
  },
  {
   "cell_type": "code",
   "execution_count": 9,
   "id": "1285e5e2-0f73-471d-ba5e-0be676e7b4a7",
   "metadata": {},
   "outputs": [
    {
     "data": {
      "text/html": [
       "<div>\n",
       "<style scoped>\n",
       "    .dataframe tbody tr th:only-of-type {\n",
       "        vertical-align: middle;\n",
       "    }\n",
       "\n",
       "    .dataframe tbody tr th {\n",
       "        vertical-align: top;\n",
       "    }\n",
       "\n",
       "    .dataframe thead th {\n",
       "        text-align: right;\n",
       "    }\n",
       "</style>\n",
       "<table border=\"1\" class=\"dataframe\">\n",
       "  <thead>\n",
       "    <tr style=\"text-align: right;\">\n",
       "      <th></th>\n",
       "      <th>name</th>\n",
       "      <th>Last</th>\n",
       "      <th>Age</th>\n",
       "      <th>Email</th>\n",
       "      <th>Sex</th>\n",
       "    </tr>\n",
       "  </thead>\n",
       "  <tbody>\n",
       "    <tr>\n",
       "      <th>1</th>\n",
       "      <td>john</td>\n",
       "      <td>Doe</td>\n",
       "      <td>22</td>\n",
       "      <td>john@gmail.com</td>\n",
       "      <td>male</td>\n",
       "    </tr>\n",
       "    <tr>\n",
       "      <th>2</th>\n",
       "      <td>jane</td>\n",
       "      <td>Doe</td>\n",
       "      <td>21</td>\n",
       "      <td>jane@gmail.com</td>\n",
       "      <td>female</td>\n",
       "    </tr>\n",
       "  </tbody>\n",
       "</table>\n",
       "</div>"
      ],
      "text/plain": [
       "   name Last  Age           Email     Sex\n",
       "1  john  Doe   22  john@gmail.com    male\n",
       "2  jane  Doe   21  jane@gmail.com  female"
      ]
     },
     "execution_count": 9,
     "metadata": {},
     "output_type": "execute_result"
    }
   ],
   "source": [
    "df[filt]"
   ]
  },
  {
   "cell_type": "code",
   "execution_count": 10,
   "id": "034f64f2-f199-4a7d-b64a-a12f76f213f0",
   "metadata": {},
   "outputs": [
    {
     "data": {
      "text/html": [
       "<div>\n",
       "<style scoped>\n",
       "    .dataframe tbody tr th:only-of-type {\n",
       "        vertical-align: middle;\n",
       "    }\n",
       "\n",
       "    .dataframe tbody tr th {\n",
       "        vertical-align: top;\n",
       "    }\n",
       "\n",
       "    .dataframe thead th {\n",
       "        text-align: right;\n",
       "    }\n",
       "</style>\n",
       "<table border=\"1\" class=\"dataframe\">\n",
       "  <thead>\n",
       "    <tr style=\"text-align: right;\">\n",
       "      <th></th>\n",
       "      <th>name</th>\n",
       "      <th>Last</th>\n",
       "      <th>Age</th>\n",
       "      <th>Email</th>\n",
       "      <th>Sex</th>\n",
       "    </tr>\n",
       "  </thead>\n",
       "  <tbody>\n",
       "    <tr>\n",
       "      <th>1</th>\n",
       "      <td>john</td>\n",
       "      <td>Doe</td>\n",
       "      <td>22</td>\n",
       "      <td>john@gmail.com</td>\n",
       "      <td>male</td>\n",
       "    </tr>\n",
       "    <tr>\n",
       "      <th>2</th>\n",
       "      <td>jane</td>\n",
       "      <td>Doe</td>\n",
       "      <td>21</td>\n",
       "      <td>jane@gmail.com</td>\n",
       "      <td>female</td>\n",
       "    </tr>\n",
       "  </tbody>\n",
       "</table>\n",
       "</div>"
      ],
      "text/plain": [
       "   name Last  Age           Email     Sex\n",
       "1  john  Doe   22  john@gmail.com    male\n",
       "2  jane  Doe   21  jane@gmail.com  female"
      ]
     },
     "execution_count": 10,
     "metadata": {},
     "output_type": "execute_result"
    }
   ],
   "source": [
    "df.loc[filt] # here filt is a variable which we are selecting from above not a df columns"
   ]
  },
  {
   "cell_type": "code",
   "execution_count": 11,
   "id": "47c46167-06bc-4490-a01e-84e1871fe536",
   "metadata": {},
   "outputs": [
    {
     "data": {
      "text/plain": [
       "1    john@gmail.com\n",
       "2    jane@gmail.com\n",
       "Name: Email, dtype: object"
      ]
     },
     "execution_count": 11,
     "metadata": {},
     "output_type": "execute_result"
    }
   ],
   "source": [
    "df.loc[filt,'Email'] # .loc[rows,columns]"
   ]
  },
  {
   "cell_type": "markdown",
   "id": "2f09e90c-2339-4bf1-9daa-25bf016862ac",
   "metadata": {},
   "source": [
    "# using operators to filter the data"
   ]
  },
  {
   "cell_type": "code",
   "execution_count": 15,
   "id": "48eaed81-7f80-43a5-a167-6b70671709aa",
   "metadata": {},
   "outputs": [
    {
     "data": {
      "text/html": [
       "<div>\n",
       "<style scoped>\n",
       "    .dataframe tbody tr th:only-of-type {\n",
       "        vertical-align: middle;\n",
       "    }\n",
       "\n",
       "    .dataframe tbody tr th {\n",
       "        vertical-align: top;\n",
       "    }\n",
       "\n",
       "    .dataframe thead th {\n",
       "        text-align: right;\n",
       "    }\n",
       "</style>\n",
       "<table border=\"1\" class=\"dataframe\">\n",
       "  <thead>\n",
       "    <tr style=\"text-align: right;\">\n",
       "      <th></th>\n",
       "      <th>name</th>\n",
       "      <th>Last</th>\n",
       "      <th>Age</th>\n",
       "      <th>Email</th>\n",
       "      <th>Sex</th>\n",
       "    </tr>\n",
       "  </thead>\n",
       "  <tbody>\n",
       "    <tr>\n",
       "      <th>1</th>\n",
       "      <td>john</td>\n",
       "      <td>Doe</td>\n",
       "      <td>22</td>\n",
       "      <td>john@gmail.com</td>\n",
       "      <td>male</td>\n",
       "    </tr>\n",
       "  </tbody>\n",
       "</table>\n",
       "</div>"
      ],
      "text/plain": [
       "   name Last  Age           Email   Sex\n",
       "1  john  Doe   22  john@gmail.com  male"
      ]
     },
     "execution_count": 15,
     "metadata": {},
     "output_type": "execute_result"
    }
   ],
   "source": [
    "above__21_and_male = df[(df['Age'] == 22) & (df['Sex'] =='male')]\n",
    "above__21_and_male"
   ]
  },
  {
   "cell_type": "code",
   "execution_count": 18,
   "id": "c3e263b5-2d67-4ca2-a416-ba73171e35a9",
   "metadata": {},
   "outputs": [],
   "source": [
    "filt =(df['Age'] ==21 ) & (df['Sex'] =='female')"
   ]
  },
  {
   "cell_type": "code",
   "execution_count": 19,
   "id": "20eee6eb-afc4-412d-acf3-40ad2669f721",
   "metadata": {},
   "outputs": [
    {
     "data": {
      "text/html": [
       "<div>\n",
       "<style scoped>\n",
       "    .dataframe tbody tr th:only-of-type {\n",
       "        vertical-align: middle;\n",
       "    }\n",
       "\n",
       "    .dataframe tbody tr th {\n",
       "        vertical-align: top;\n",
       "    }\n",
       "\n",
       "    .dataframe thead th {\n",
       "        text-align: right;\n",
       "    }\n",
       "</style>\n",
       "<table border=\"1\" class=\"dataframe\">\n",
       "  <thead>\n",
       "    <tr style=\"text-align: right;\">\n",
       "      <th></th>\n",
       "      <th>name</th>\n",
       "      <th>Last</th>\n",
       "      <th>Age</th>\n",
       "      <th>Sex</th>\n",
       "    </tr>\n",
       "  </thead>\n",
       "  <tbody>\n",
       "    <tr>\n",
       "      <th>2</th>\n",
       "      <td>jane</td>\n",
       "      <td>Doe</td>\n",
       "      <td>21</td>\n",
       "      <td>female</td>\n",
       "    </tr>\n",
       "  </tbody>\n",
       "</table>\n",
       "</div>"
      ],
      "text/plain": [
       "   name Last  Age     Sex\n",
       "2  jane  Doe   21  female"
      ]
     },
     "execution_count": 19,
     "metadata": {},
     "output_type": "execute_result"
    }
   ],
   "source": [
    "df.loc[filt,['name','Last','Age','Sex']]"
   ]
  },
  {
   "cell_type": "code",
   "execution_count": 26,
   "id": "a86862b4-e87b-4e8e-a9a0-1e9d0bf3eac1",
   "metadata": {},
   "outputs": [],
   "source": [
    "# exercise create a filter for the name =='alif', and the last=='kamate' and print the email\n",
    "t_filt = (df['name'] =='alif') & (df['Last'] == 'Kamate')\n"
   ]
  },
  {
   "cell_type": "code",
   "execution_count": 28,
   "id": "e45bc600-c76e-4887-acf3-3b4ecc926bd6",
   "metadata": {},
   "outputs": [
    {
     "data": {
      "text/plain": [
       "0    alif@gmail.com\n",
       "Name: Email, dtype: object"
      ]
     },
     "execution_count": 28,
     "metadata": {},
     "output_type": "execute_result"
    }
   ],
   "source": [
    "df.loc[t_filt,'Email']"
   ]
  },
  {
   "cell_type": "markdown",
   "id": "0ae9dcdc-6c00-4cd0-a81c-2706549778a8",
   "metadata": {},
   "source": [
    "## <kbd>OR</kbd> operator"
   ]
  },
  {
   "cell_type": "code",
   "execution_count": 40,
   "id": "183a2793-60b2-46a9-91b2-5c71a6a8c624",
   "metadata": {},
   "outputs": [],
   "source": [
    "or_op = (df['Last'] =='Kamate') | (df['name'] == 'john')"
   ]
  },
  {
   "cell_type": "code",
   "execution_count": 44,
   "id": "a484fd6a-08df-4bc6-9bc9-87dc758f0373",
   "metadata": {},
   "outputs": [
    {
     "data": {
      "text/plain": [
       "0    alif@gmail.com\n",
       "1    john@gmail.com\n",
       "Name: Email, dtype: object"
      ]
     },
     "execution_count": 44,
     "metadata": {},
     "output_type": "execute_result"
    }
   ],
   "source": [
    "df.loc[or_op,'Email']\n",
    "# df.loc[~or_op,'Email']"
   ]
  },
  {
   "cell_type": "code",
   "execution_count": null,
   "id": "32fbb967-48ce-4ff1-982a-4e6fb129f355",
   "metadata": {},
   "outputs": [],
   "source": []
  }
 ],
 "metadata": {
  "kernelspec": {
   "display_name": "Python 3 (ipykernel)",
   "language": "python",
   "name": "python3"
  },
  "language_info": {
   "codemirror_mode": {
    "name": "ipython",
    "version": 3
   },
   "file_extension": ".py",
   "mimetype": "text/x-python",
   "name": "python",
   "nbconvert_exporter": "python",
   "pygments_lexer": "ipython3",
   "version": "3.12.2"
  }
 },
 "nbformat": 4,
 "nbformat_minor": 5
}
