{
 "cells": [
  {
   "cell_type": "code",
   "execution_count": 1,
   "id": "a5b87534-f383-451f-9f92-9c136c4b6f34",
   "metadata": {},
   "outputs": [],
   "source": [
    "import pandas as pd"
   ]
  },
  {
   "cell_type": "code",
   "execution_count": 2,
   "id": "b588e960-9f6b-43fc-9f51-811de86680fc",
   "metadata": {},
   "outputs": [],
   "source": [
    "people = {\n",
    "    'fname':['alif','kunal','amir'],\n",
    "    'lnam':['kamate','chavan','nadaf'],\n",
    "    'email':['alif@gmail.com','kunal@gmail.com','amir@gmail.com']\n",
    "}"
   ]
  },
  {
   "cell_type": "code",
   "execution_count": 3,
   "id": "73a69e0c-3f33-4750-a586-e8ef742bf9a1",
   "metadata": {},
   "outputs": [
    {
     "data": {
      "text/html": [
       "<div>\n",
       "<style scoped>\n",
       "    .dataframe tbody tr th:only-of-type {\n",
       "        vertical-align: middle;\n",
       "    }\n",
       "\n",
       "    .dataframe tbody tr th {\n",
       "        vertical-align: top;\n",
       "    }\n",
       "\n",
       "    .dataframe thead th {\n",
       "        text-align: right;\n",
       "    }\n",
       "</style>\n",
       "<table border=\"1\" class=\"dataframe\">\n",
       "  <thead>\n",
       "    <tr style=\"text-align: right;\">\n",
       "      <th></th>\n",
       "      <th>fname</th>\n",
       "      <th>lnam</th>\n",
       "      <th>email</th>\n",
       "    </tr>\n",
       "  </thead>\n",
       "  <tbody>\n",
       "    <tr>\n",
       "      <th>0</th>\n",
       "      <td>alif</td>\n",
       "      <td>kamate</td>\n",
       "      <td>alif@gmail.com</td>\n",
       "    </tr>\n",
       "    <tr>\n",
       "      <th>1</th>\n",
       "      <td>kunal</td>\n",
       "      <td>chavan</td>\n",
       "      <td>kunal@gmail.com</td>\n",
       "    </tr>\n",
       "    <tr>\n",
       "      <th>2</th>\n",
       "      <td>amir</td>\n",
       "      <td>nadaf</td>\n",
       "      <td>amir@gmail.com</td>\n",
       "    </tr>\n",
       "  </tbody>\n",
       "</table>\n",
       "</div>"
      ],
      "text/plain": [
       "   fname    lnam            email\n",
       "0   alif  kamate   alif@gmail.com\n",
       "1  kunal  chavan  kunal@gmail.com\n",
       "2   amir   nadaf   amir@gmail.com"
      ]
     },
     "execution_count": 3,
     "metadata": {},
     "output_type": "execute_result"
    }
   ],
   "source": [
    "df = pd.DataFrame(people)\n",
    "df"
   ]
  },
  {
   "cell_type": "code",
   "execution_count": 4,
   "id": "6e1094b9-5c37-4e89-b473-d05ffa1487a4",
   "metadata": {},
   "outputs": [
    {
     "data": {
      "text/plain": [
       "Index(['fname', 'lnam', 'email'], dtype='object')"
      ]
     },
     "execution_count": 4,
     "metadata": {},
     "output_type": "execute_result"
    }
   ],
   "source": [
    "df.columns\n",
    "#object referst to strings"
   ]
  },
  {
   "cell_type": "markdown",
   "id": "a7bf5dc1-ad88-4cc5-82d1-ea639a81d463",
   "metadata": {},
   "source": [
    "## first lets change the columns names"
   ]
  },
  {
   "cell_type": "code",
   "execution_count": 5,
   "id": "aa46a2e1-2a95-4c62-98fc-f5f50cbac323",
   "metadata": {},
   "outputs": [],
   "source": [
    "df.columns =['first_name','last_name','email']"
   ]
  },
  {
   "cell_type": "code",
   "execution_count": 6,
   "id": "75f6d02d-0e4b-4abc-8f3a-e4a81a62aeed",
   "metadata": {},
   "outputs": [
    {
     "data": {
      "text/html": [
       "<div>\n",
       "<style scoped>\n",
       "    .dataframe tbody tr th:only-of-type {\n",
       "        vertical-align: middle;\n",
       "    }\n",
       "\n",
       "    .dataframe tbody tr th {\n",
       "        vertical-align: top;\n",
       "    }\n",
       "\n",
       "    .dataframe thead th {\n",
       "        text-align: right;\n",
       "    }\n",
       "</style>\n",
       "<table border=\"1\" class=\"dataframe\">\n",
       "  <thead>\n",
       "    <tr style=\"text-align: right;\">\n",
       "      <th></th>\n",
       "      <th>first_name</th>\n",
       "      <th>last_name</th>\n",
       "      <th>email</th>\n",
       "    </tr>\n",
       "  </thead>\n",
       "  <tbody>\n",
       "    <tr>\n",
       "      <th>0</th>\n",
       "      <td>alif</td>\n",
       "      <td>kamate</td>\n",
       "      <td>alif@gmail.com</td>\n",
       "    </tr>\n",
       "    <tr>\n",
       "      <th>1</th>\n",
       "      <td>kunal</td>\n",
       "      <td>chavan</td>\n",
       "      <td>kunal@gmail.com</td>\n",
       "    </tr>\n",
       "    <tr>\n",
       "      <th>2</th>\n",
       "      <td>amir</td>\n",
       "      <td>nadaf</td>\n",
       "      <td>amir@gmail.com</td>\n",
       "    </tr>\n",
       "  </tbody>\n",
       "</table>\n",
       "</div>"
      ],
      "text/plain": [
       "  first_name last_name            email\n",
       "0       alif    kamate   alif@gmail.com\n",
       "1      kunal    chavan  kunal@gmail.com\n",
       "2       amir     nadaf   amir@gmail.com"
      ]
     },
     "execution_count": 6,
     "metadata": {},
     "output_type": "execute_result"
    }
   ],
   "source": [
    "df"
   ]
  },
  {
   "cell_type": "code",
   "execution_count": 7,
   "id": "fe63c38c-5e70-42ae-a3c4-e80afae456f2",
   "metadata": {},
   "outputs": [
    {
     "data": {
      "text/html": [
       "<div>\n",
       "<style scoped>\n",
       "    .dataframe tbody tr th:only-of-type {\n",
       "        vertical-align: middle;\n",
       "    }\n",
       "\n",
       "    .dataframe tbody tr th {\n",
       "        vertical-align: top;\n",
       "    }\n",
       "\n",
       "    .dataframe thead th {\n",
       "        text-align: right;\n",
       "    }\n",
       "</style>\n",
       "<table border=\"1\" class=\"dataframe\">\n",
       "  <thead>\n",
       "    <tr style=\"text-align: right;\">\n",
       "      <th></th>\n",
       "      <th>FIRST_NAME</th>\n",
       "      <th>LAST_NAME</th>\n",
       "      <th>EMAIL</th>\n",
       "    </tr>\n",
       "  </thead>\n",
       "  <tbody>\n",
       "    <tr>\n",
       "      <th>0</th>\n",
       "      <td>alif</td>\n",
       "      <td>kamate</td>\n",
       "      <td>alif@gmail.com</td>\n",
       "    </tr>\n",
       "    <tr>\n",
       "      <th>1</th>\n",
       "      <td>kunal</td>\n",
       "      <td>chavan</td>\n",
       "      <td>kunal@gmail.com</td>\n",
       "    </tr>\n",
       "    <tr>\n",
       "      <th>2</th>\n",
       "      <td>amir</td>\n",
       "      <td>nadaf</td>\n",
       "      <td>amir@gmail.com</td>\n",
       "    </tr>\n",
       "  </tbody>\n",
       "</table>\n",
       "</div>"
      ],
      "text/plain": [
       "  FIRST_NAME LAST_NAME            EMAIL\n",
       "0       alif    kamate   alif@gmail.com\n",
       "1      kunal    chavan  kunal@gmail.com\n",
       "2       amir     nadaf   amir@gmail.com"
      ]
     },
     "execution_count": 7,
     "metadata": {},
     "output_type": "execute_result"
    }
   ],
   "source": [
    "df.columns =[x.upper() for x in df.columns]\n",
    "df"
   ]
  },
  {
   "cell_type": "code",
   "execution_count": 8,
   "id": "51f84ae5-6e7f-4201-b065-ee7b418bc73a",
   "metadata": {},
   "outputs": [],
   "source": [
    "df.columns = df.columns.str.replace('_',\" \")\n",
    "# make how it was before\n",
    "df.columns = df.columns.str.replace(' ','_')"
   ]
  },
  {
   "cell_type": "code",
   "execution_count": 9,
   "id": "ad6b6dc1-59b8-4672-a055-1d420c4c0189",
   "metadata": {},
   "outputs": [
    {
     "data": {
      "text/html": [
       "<div>\n",
       "<style scoped>\n",
       "    .dataframe tbody tr th:only-of-type {\n",
       "        vertical-align: middle;\n",
       "    }\n",
       "\n",
       "    .dataframe tbody tr th {\n",
       "        vertical-align: top;\n",
       "    }\n",
       "\n",
       "    .dataframe thead th {\n",
       "        text-align: right;\n",
       "    }\n",
       "</style>\n",
       "<table border=\"1\" class=\"dataframe\">\n",
       "  <thead>\n",
       "    <tr style=\"text-align: right;\">\n",
       "      <th></th>\n",
       "      <th>FIRST_NAME</th>\n",
       "      <th>LAST_NAME</th>\n",
       "      <th>EMAIL</th>\n",
       "    </tr>\n",
       "  </thead>\n",
       "  <tbody>\n",
       "    <tr>\n",
       "      <th>0</th>\n",
       "      <td>alif</td>\n",
       "      <td>kamate</td>\n",
       "      <td>alif@gmail.com</td>\n",
       "    </tr>\n",
       "    <tr>\n",
       "      <th>1</th>\n",
       "      <td>kunal</td>\n",
       "      <td>chavan</td>\n",
       "      <td>kunal@gmail.com</td>\n",
       "    </tr>\n",
       "    <tr>\n",
       "      <th>2</th>\n",
       "      <td>amir</td>\n",
       "      <td>nadaf</td>\n",
       "      <td>amir@gmail.com</td>\n",
       "    </tr>\n",
       "  </tbody>\n",
       "</table>\n",
       "</div>"
      ],
      "text/plain": [
       "  FIRST_NAME LAST_NAME            EMAIL\n",
       "0       alif    kamate   alif@gmail.com\n",
       "1      kunal    chavan  kunal@gmail.com\n",
       "2       amir     nadaf   amir@gmail.com"
      ]
     },
     "execution_count": 9,
     "metadata": {},
     "output_type": "execute_result"
    }
   ],
   "source": [
    "df"
   ]
  },
  {
   "cell_type": "code",
   "execution_count": 10,
   "id": "4e1b8224-e70a-4384-8aa2-1f7784943884",
   "metadata": {},
   "outputs": [],
   "source": [
    "df.rename(columns={\n",
    "    'FIRST_NAME' : 'first',\n",
    "    'LAST_NAME' : 'last'\n",
    "}, inplace=True)"
   ]
  },
  {
   "cell_type": "code",
   "execution_count": 11,
   "id": "2740b087-11cd-4096-a0ca-b102c40a5f72",
   "metadata": {},
   "outputs": [
    {
     "data": {
      "text/html": [
       "<div>\n",
       "<style scoped>\n",
       "    .dataframe tbody tr th:only-of-type {\n",
       "        vertical-align: middle;\n",
       "    }\n",
       "\n",
       "    .dataframe tbody tr th {\n",
       "        vertical-align: top;\n",
       "    }\n",
       "\n",
       "    .dataframe thead th {\n",
       "        text-align: right;\n",
       "    }\n",
       "</style>\n",
       "<table border=\"1\" class=\"dataframe\">\n",
       "  <thead>\n",
       "    <tr style=\"text-align: right;\">\n",
       "      <th></th>\n",
       "      <th>first</th>\n",
       "      <th>last</th>\n",
       "      <th>EMAIL</th>\n",
       "    </tr>\n",
       "  </thead>\n",
       "  <tbody>\n",
       "    <tr>\n",
       "      <th>0</th>\n",
       "      <td>alif</td>\n",
       "      <td>kamate</td>\n",
       "      <td>alif@gmail.com</td>\n",
       "    </tr>\n",
       "    <tr>\n",
       "      <th>1</th>\n",
       "      <td>kunal</td>\n",
       "      <td>chavan</td>\n",
       "      <td>kunal@gmail.com</td>\n",
       "    </tr>\n",
       "    <tr>\n",
       "      <th>2</th>\n",
       "      <td>amir</td>\n",
       "      <td>nadaf</td>\n",
       "      <td>amir@gmail.com</td>\n",
       "    </tr>\n",
       "  </tbody>\n",
       "</table>\n",
       "</div>"
      ],
      "text/plain": [
       "   first    last            EMAIL\n",
       "0   alif  kamate   alif@gmail.com\n",
       "1  kunal  chavan  kunal@gmail.com\n",
       "2   amir   nadaf   amir@gmail.com"
      ]
     },
     "execution_count": 11,
     "metadata": {},
     "output_type": "execute_result"
    }
   ],
   "source": [
    "df"
   ]
  },
  {
   "cell_type": "markdown",
   "id": "68029c5c-c767-45c4-a953-490d6297286e",
   "metadata": {},
   "source": [
    " ## lets change a single value/ row"
   ]
  },
  {
   "cell_type": "code",
   "execution_count": 12,
   "id": "4f85142a-c7b6-4bf5-93b1-5a1f48d88100",
   "metadata": {},
   "outputs": [],
   "source": [
    "# select the row to update\n",
    "df.loc[2] = ['alisha','nadaf','alisha@gmail.com']"
   ]
  },
  {
   "cell_type": "code",
   "execution_count": 13,
   "id": "44825d6b-2958-4c4a-946a-f66563b0027d",
   "metadata": {},
   "outputs": [
    {
     "data": {
      "text/html": [
       "<div>\n",
       "<style scoped>\n",
       "    .dataframe tbody tr th:only-of-type {\n",
       "        vertical-align: middle;\n",
       "    }\n",
       "\n",
       "    .dataframe tbody tr th {\n",
       "        vertical-align: top;\n",
       "    }\n",
       "\n",
       "    .dataframe thead th {\n",
       "        text-align: right;\n",
       "    }\n",
       "</style>\n",
       "<table border=\"1\" class=\"dataframe\">\n",
       "  <thead>\n",
       "    <tr style=\"text-align: right;\">\n",
       "      <th></th>\n",
       "      <th>first</th>\n",
       "      <th>last</th>\n",
       "      <th>EMAIL</th>\n",
       "    </tr>\n",
       "  </thead>\n",
       "  <tbody>\n",
       "    <tr>\n",
       "      <th>0</th>\n",
       "      <td>alif</td>\n",
       "      <td>kamate</td>\n",
       "      <td>alif@gmail.com</td>\n",
       "    </tr>\n",
       "    <tr>\n",
       "      <th>1</th>\n",
       "      <td>kunal</td>\n",
       "      <td>chavan</td>\n",
       "      <td>kunal@gmail.com</td>\n",
       "    </tr>\n",
       "    <tr>\n",
       "      <th>2</th>\n",
       "      <td>alisha</td>\n",
       "      <td>nadaf</td>\n",
       "      <td>alisha@gmail.com</td>\n",
       "    </tr>\n",
       "  </tbody>\n",
       "</table>\n",
       "</div>"
      ],
      "text/plain": [
       "    first    last             EMAIL\n",
       "0    alif  kamate    alif@gmail.com\n",
       "1   kunal  chavan   kunal@gmail.com\n",
       "2  alisha   nadaf  alisha@gmail.com"
      ]
     },
     "execution_count": 13,
     "metadata": {},
     "output_type": "execute_result"
    }
   ],
   "source": [
    "df"
   ]
  },
  {
   "cell_type": "code",
   "execution_count": 14,
   "id": "be5b8a95-6ac4-447e-85e0-6aa9316f9260",
   "metadata": {},
   "outputs": [],
   "source": [
    "## this is more reliable to use\n",
    "df.loc[2,['last','EMAIL']] = ['kurkure','kurkure@gmail.com']"
   ]
  },
  {
   "cell_type": "code",
   "execution_count": 15,
   "id": "84083133-8034-461a-a51a-7c91993d12a1",
   "metadata": {},
   "outputs": [],
   "source": [
    "df.rename(columns={\n",
    "    'EMAIL':'email'\n",
    "}, inplace=True)"
   ]
  },
  {
   "cell_type": "code",
   "execution_count": 16,
   "id": "2e13cad1-64da-439b-9aa2-2d0687956145",
   "metadata": {},
   "outputs": [],
   "source": [
    "# lets change the first for the 2 index\n",
    "df.loc[2,'first'] = 'layz'"
   ]
  },
  {
   "cell_type": "markdown",
   "id": "43a924bf-ea5e-448c-a14d-4213a70e725e",
   "metadata": {},
   "source": [
    "we can also use the `at` instead of `.loc`"
   ]
  },
  {
   "cell_type": "code",
   "execution_count": 17,
   "id": "67b55d9c-fd56-4e60-94a1-5b021210ec53",
   "metadata": {},
   "outputs": [],
   "source": [
    "df.at[2,'first'] ='crazy'"
   ]
  },
  {
   "cell_type": "markdown",
   "id": "2419e777-e3d9-4c27-83d9-c80cb090f9ef",
   "metadata": {},
   "source": [
    "wrong way to modifying the rows "
   ]
  },
  {
   "cell_type": "code",
   "execution_count": 18,
   "id": "14dc82e1-c85e-405b-b37f-8ab41b1ba68b",
   "metadata": {},
   "outputs": [
    {
     "name": "stderr",
     "output_type": "stream",
     "text": [
      "/tmp/ipykernel_11004/353143767.py:2: SettingWithCopyWarning: \n",
      "A value is trying to be set on a copy of a slice from a DataFrame.\n",
      "Try using .loc[row_indexer,col_indexer] = value instead\n",
      "\n",
      "See the caveats in the documentation: https://pandas.pydata.org/pandas-docs/stable/user_guide/indexing.html#returning-a-view-versus-a-copy\n",
      "  df[filt]['last'] = 'nadaf'\n"
     ]
    }
   ],
   "source": [
    "filt = (df['email'] =='kurkure@gmail.com')\n",
    "df[filt]['last'] = 'nadaf'"
   ]
  },
  {
   "cell_type": "code",
   "execution_count": 19,
   "id": "d3b4d680-6861-4a33-bda9-31482a5f4423",
   "metadata": {},
   "outputs": [
    {
     "data": {
      "text/html": [
       "<div>\n",
       "<style scoped>\n",
       "    .dataframe tbody tr th:only-of-type {\n",
       "        vertical-align: middle;\n",
       "    }\n",
       "\n",
       "    .dataframe tbody tr th {\n",
       "        vertical-align: top;\n",
       "    }\n",
       "\n",
       "    .dataframe thead th {\n",
       "        text-align: right;\n",
       "    }\n",
       "</style>\n",
       "<table border=\"1\" class=\"dataframe\">\n",
       "  <thead>\n",
       "    <tr style=\"text-align: right;\">\n",
       "      <th></th>\n",
       "      <th>first</th>\n",
       "      <th>last</th>\n",
       "      <th>email</th>\n",
       "    </tr>\n",
       "  </thead>\n",
       "  <tbody>\n",
       "    <tr>\n",
       "      <th>0</th>\n",
       "      <td>alif</td>\n",
       "      <td>kamate</td>\n",
       "      <td>alif@gmail.com</td>\n",
       "    </tr>\n",
       "    <tr>\n",
       "      <th>1</th>\n",
       "      <td>kunal</td>\n",
       "      <td>chavan</td>\n",
       "      <td>kunal@gmail.com</td>\n",
       "    </tr>\n",
       "    <tr>\n",
       "      <th>2</th>\n",
       "      <td>crazy</td>\n",
       "      <td>nadaf</td>\n",
       "      <td>kurkure@gmail.com</td>\n",
       "    </tr>\n",
       "  </tbody>\n",
       "</table>\n",
       "</div>"
      ],
      "text/plain": [
       "   first    last              email\n",
       "0   alif  kamate     alif@gmail.com\n",
       "1  kunal  chavan    kunal@gmail.com\n",
       "2  crazy   nadaf  kurkure@gmail.com"
      ]
     },
     "execution_count": 19,
     "metadata": {},
     "output_type": "execute_result"
    }
   ],
   "source": [
    "# modifying with the right way \n",
    "filt = (df['last'] == 'kurkure')\n",
    "df.loc[filt,'last'] = 'nadaf'\n",
    "df"
   ]
  },
  {
   "cell_type": "code",
   "execution_count": 20,
   "id": "c9fc183a-4f16-459b-a495-1085368608ae",
   "metadata": {},
   "outputs": [
    {
     "data": {
      "text/html": [
       "<div>\n",
       "<style scoped>\n",
       "    .dataframe tbody tr th:only-of-type {\n",
       "        vertical-align: middle;\n",
       "    }\n",
       "\n",
       "    .dataframe tbody tr th {\n",
       "        vertical-align: top;\n",
       "    }\n",
       "\n",
       "    .dataframe thead th {\n",
       "        text-align: right;\n",
       "    }\n",
       "</style>\n",
       "<table border=\"1\" class=\"dataframe\">\n",
       "  <thead>\n",
       "    <tr style=\"text-align: right;\">\n",
       "      <th></th>\n",
       "      <th>first</th>\n",
       "      <th>last</th>\n",
       "      <th>email</th>\n",
       "    </tr>\n",
       "  </thead>\n",
       "  <tbody>\n",
       "    <tr>\n",
       "      <th>0</th>\n",
       "      <td>alif</td>\n",
       "      <td>kamate</td>\n",
       "      <td>alif@gmail.com</td>\n",
       "    </tr>\n",
       "    <tr>\n",
       "      <th>1</th>\n",
       "      <td>kunal</td>\n",
       "      <td>chavan</td>\n",
       "      <td>kunal@gmail.com</td>\n",
       "    </tr>\n",
       "    <tr>\n",
       "      <th>2</th>\n",
       "      <td>crazy</td>\n",
       "      <td>nadaf</td>\n",
       "      <td>kurkure@gmail.com</td>\n",
       "    </tr>\n",
       "  </tbody>\n",
       "</table>\n",
       "</div>"
      ],
      "text/plain": [
       "   first    last              email\n",
       "0   alif  kamate     alif@gmail.com\n",
       "1  kunal  chavan    kunal@gmail.com\n",
       "2  crazy   nadaf  kurkure@gmail.com"
      ]
     },
     "execution_count": 20,
     "metadata": {},
     "output_type": "execute_result"
    }
   ],
   "source": [
    "df['email'] = df['email'].str.lower()\n",
    "df"
   ]
  },
  {
   "cell_type": "markdown",
   "id": "48fb0ba7-d6b9-4f9d-8ce2-8d5be92d88a5",
   "metadata": {},
   "source": [
    "some methods where people get confused \n",
    "* apply\n",
    "* map\n",
    "* applymap\n",
    "* replace"
   ]
  },
  {
   "cell_type": "code",
   "execution_count": 21,
   "id": "f5ac33a1-8a6c-46e2-bedd-0f131277933a",
   "metadata": {},
   "outputs": [
    {
     "data": {
      "text/plain": [
       "0    14\n",
       "1    15\n",
       "2    17\n",
       "Name: email, dtype: int64"
      ]
     },
     "execution_count": 21,
     "metadata": {},
     "output_type": "execute_result"
    }
   ],
   "source": [
    "# apply can work with both series and dataframe as well\n",
    "\n",
    "# first lets work with series\n",
    "df['email'].apply(len)"
   ]
  },
  {
   "cell_type": "code",
   "execution_count": 22,
   "id": "7b5c3151-eca4-4bfb-903e-11a3c9b36302",
   "metadata": {},
   "outputs": [
    {
     "data": {
      "text/plain": [
       "0       ALIF@GMAIL.COM\n",
       "1      KUNAL@GMAIL.COM\n",
       "2    KURKURE@GMAIL.COM\n",
       "Name: email, dtype: object"
      ]
     },
     "execution_count": 22,
     "metadata": {},
     "output_type": "execute_result"
    }
   ],
   "source": [
    "def update_email(email):\n",
    "    return email.upper()\n",
    "\n",
    "df['email'].apply(update_email)"
   ]
  },
  {
   "cell_type": "code",
   "execution_count": 23,
   "id": "c8fc3ac7-3358-422d-aca7-1dff83c1ec0c",
   "metadata": {},
   "outputs": [
    {
     "data": {
      "text/html": [
       "<div>\n",
       "<style scoped>\n",
       "    .dataframe tbody tr th:only-of-type {\n",
       "        vertical-align: middle;\n",
       "    }\n",
       "\n",
       "    .dataframe tbody tr th {\n",
       "        vertical-align: top;\n",
       "    }\n",
       "\n",
       "    .dataframe thead th {\n",
       "        text-align: right;\n",
       "    }\n",
       "</style>\n",
       "<table border=\"1\" class=\"dataframe\">\n",
       "  <thead>\n",
       "    <tr style=\"text-align: right;\">\n",
       "      <th></th>\n",
       "      <th>first</th>\n",
       "      <th>last</th>\n",
       "      <th>email</th>\n",
       "    </tr>\n",
       "  </thead>\n",
       "  <tbody>\n",
       "    <tr>\n",
       "      <th>0</th>\n",
       "      <td>alif</td>\n",
       "      <td>kamate</td>\n",
       "      <td>ALIF@GMAIL.COM</td>\n",
       "    </tr>\n",
       "    <tr>\n",
       "      <th>1</th>\n",
       "      <td>kunal</td>\n",
       "      <td>chavan</td>\n",
       "      <td>KUNAL@GMAIL.COM</td>\n",
       "    </tr>\n",
       "    <tr>\n",
       "      <th>2</th>\n",
       "      <td>crazy</td>\n",
       "      <td>nadaf</td>\n",
       "      <td>KURKURE@GMAIL.COM</td>\n",
       "    </tr>\n",
       "  </tbody>\n",
       "</table>\n",
       "</div>"
      ],
      "text/plain": [
       "   first    last              email\n",
       "0   alif  kamate     ALIF@GMAIL.COM\n",
       "1  kunal  chavan    KUNAL@GMAIL.COM\n",
       "2  crazy   nadaf  KURKURE@GMAIL.COM"
      ]
     },
     "execution_count": 23,
     "metadata": {},
     "output_type": "execute_result"
    }
   ],
   "source": [
    "#we can also do something like this \n",
    "# assign it back to the column to make changes permanant\n",
    "df['email'] = df['email'].apply(lambda email: email.upper())\n",
    "df"
   ]
  },
  {
   "cell_type": "code",
   "execution_count": 24,
   "id": "56f62927-15f7-44a0-95b9-59aff1e4f886",
   "metadata": {},
   "outputs": [],
   "source": [
    "df['email'] = df['email'].apply(lambda email: email.lower())"
   ]
  },
  {
   "cell_type": "markdown",
   "id": "d73cd7b9-9fe7-4053-9f6d-e0b5820941fb",
   "metadata": {},
   "source": [
    "now lets see how `apply()` workd with dataframe"
   ]
  },
  {
   "cell_type": "code",
   "execution_count": 25,
   "id": "8f42e010-52cd-44e3-b700-acaacb12ceaa",
   "metadata": {},
   "outputs": [
    {
     "data": {
      "text/plain": [
       "first    3\n",
       "last     3\n",
       "email    3\n",
       "dtype: int64"
      ]
     },
     "execution_count": 25,
     "metadata": {},
     "output_type": "execute_result"
    }
   ],
   "source": [
    "df.apply(len)\n",
    "# it is giving the how many values inside the column name"
   ]
  },
  {
   "cell_type": "code",
   "execution_count": 26,
   "id": "d02b0e57-4a82-4ece-b192-50cbbfb544f1",
   "metadata": {},
   "outputs": [
    {
     "data": {
      "text/plain": [
       "0    3\n",
       "1    3\n",
       "2    3\n",
       "dtype: int64"
      ]
     },
     "execution_count": 26,
     "metadata": {},
     "output_type": "execute_result"
    }
   ],
   "source": [
    "df.apply(len,axis='columns')\n",
    "# now it is giving the 0 row has the 3 column values "
   ]
  },
  {
   "cell_type": "code",
   "execution_count": 27,
   "id": "061ca11e-37c7-4450-8de8-ce6ee492dd77",
   "metadata": {},
   "outputs": [
    {
     "data": {
      "text/plain": [
       "3"
      ]
     },
     "execution_count": 27,
     "metadata": {},
     "output_type": "execute_result"
    }
   ],
   "source": [
    "# cross checking\n",
    "len(df['email'])"
   ]
  },
  {
   "cell_type": "code",
   "execution_count": 28,
   "id": "a0b91d68-3a74-4d71-aee6-b364303be50b",
   "metadata": {},
   "outputs": [
    {
     "data": {
      "text/plain": [
       "first              alif\n",
       "last             chavan\n",
       "email    alif@gmail.com\n",
       "dtype: object"
      ]
     },
     "execution_count": 28,
     "metadata": {},
     "output_type": "execute_result"
    }
   ],
   "source": [
    "df.apply(pd.Series.min)"
   ]
  },
  {
   "cell_type": "code",
   "execution_count": 29,
   "id": "4bd92607-f747-4b04-b8bf-7af9c0bc97f1",
   "metadata": {},
   "outputs": [
    {
     "data": {
      "text/plain": [
       "first              alif\n",
       "last             chavan\n",
       "email    alif@gmail.com\n",
       "dtype: object"
      ]
     },
     "execution_count": 29,
     "metadata": {},
     "output_type": "execute_result"
    }
   ],
   "source": [
    "df.apply(lambda x: x.min()) # lambda works only on series"
   ]
  },
  {
   "cell_type": "markdown",
   "id": "52d8f28d-80a8-43b3-9acb-074bd7a5e20a",
   "metadata": {},
   "source": [
    "# applymap()"
   ]
  },
  {
   "cell_type": "code",
   "execution_count": 32,
   "id": "4587b2eb-7404-4ec8-ad7b-c987ed9f8acc",
   "metadata": {},
   "outputs": [
    {
     "data": {
      "text/html": [
       "<div>\n",
       "<style scoped>\n",
       "    .dataframe tbody tr th:only-of-type {\n",
       "        vertical-align: middle;\n",
       "    }\n",
       "\n",
       "    .dataframe tbody tr th {\n",
       "        vertical-align: top;\n",
       "    }\n",
       "\n",
       "    .dataframe thead th {\n",
       "        text-align: right;\n",
       "    }\n",
       "</style>\n",
       "<table border=\"1\" class=\"dataframe\">\n",
       "  <thead>\n",
       "    <tr style=\"text-align: right;\">\n",
       "      <th></th>\n",
       "      <th>first</th>\n",
       "      <th>last</th>\n",
       "      <th>email</th>\n",
       "    </tr>\n",
       "  </thead>\n",
       "  <tbody>\n",
       "    <tr>\n",
       "      <th>0</th>\n",
       "      <td>4</td>\n",
       "      <td>6</td>\n",
       "      <td>14</td>\n",
       "    </tr>\n",
       "    <tr>\n",
       "      <th>1</th>\n",
       "      <td>5</td>\n",
       "      <td>6</td>\n",
       "      <td>15</td>\n",
       "    </tr>\n",
       "    <tr>\n",
       "      <th>2</th>\n",
       "      <td>5</td>\n",
       "      <td>5</td>\n",
       "      <td>17</td>\n",
       "    </tr>\n",
       "  </tbody>\n",
       "</table>\n",
       "</div>"
      ],
      "text/plain": [
       "   first  last  email\n",
       "0      4     6     14\n",
       "1      5     6     15\n",
       "2      5     5     17"
      ]
     },
     "execution_count": 32,
     "metadata": {},
     "output_type": "execute_result"
    }
   ],
   "source": [
    "# df.applymap(len) # this is deprecated so avoid doing this\n",
    "df.map(len)"
   ]
  },
  {
   "cell_type": "code",
   "execution_count": 33,
   "id": "3faf4c8c-d422-4fd9-a2aa-68c8fff01e92",
   "metadata": {},
   "outputs": [
    {
     "data": {
      "text/html": [
       "<div>\n",
       "<style scoped>\n",
       "    .dataframe tbody tr th:only-of-type {\n",
       "        vertical-align: middle;\n",
       "    }\n",
       "\n",
       "    .dataframe tbody tr th {\n",
       "        vertical-align: top;\n",
       "    }\n",
       "\n",
       "    .dataframe thead th {\n",
       "        text-align: right;\n",
       "    }\n",
       "</style>\n",
       "<table border=\"1\" class=\"dataframe\">\n",
       "  <thead>\n",
       "    <tr style=\"text-align: right;\">\n",
       "      <th></th>\n",
       "      <th>first</th>\n",
       "      <th>last</th>\n",
       "      <th>email</th>\n",
       "    </tr>\n",
       "  </thead>\n",
       "  <tbody>\n",
       "    <tr>\n",
       "      <th>0</th>\n",
       "      <td>alif</td>\n",
       "      <td>kamate</td>\n",
       "      <td>alif@gmail.com</td>\n",
       "    </tr>\n",
       "    <tr>\n",
       "      <th>1</th>\n",
       "      <td>kunal</td>\n",
       "      <td>chavan</td>\n",
       "      <td>kunal@gmail.com</td>\n",
       "    </tr>\n",
       "    <tr>\n",
       "      <th>2</th>\n",
       "      <td>crazy</td>\n",
       "      <td>nadaf</td>\n",
       "      <td>kurkure@gmail.com</td>\n",
       "    </tr>\n",
       "  </tbody>\n",
       "</table>\n",
       "</div>"
      ],
      "text/plain": [
       "   first    last              email\n",
       "0   alif  kamate     alif@gmail.com\n",
       "1  kunal  chavan    kunal@gmail.com\n",
       "2  crazy   nadaf  kurkure@gmail.com"
      ]
     },
     "execution_count": 33,
     "metadata": {},
     "output_type": "execute_result"
    }
   ],
   "source": [
    "df.map(str.lower)"
   ]
  },
  {
   "cell_type": "markdown",
   "id": "530d81f9-542d-4c70-8341-d317f61fccf5",
   "metadata": {},
   "source": [
    "# map() "
   ]
  },
  {
   "cell_type": "code",
   "execution_count": 34,
   "id": "c90795f8-1ef4-49d7-b342-580625d78f6e",
   "metadata": {},
   "outputs": [
    {
     "data": {
      "text/plain": [
       "0    robert\n",
       "1       NaN\n",
       "2      amir\n",
       "Name: first, dtype: object"
      ]
     },
     "execution_count": 34,
     "metadata": {},
     "output_type": "execute_result"
    }
   ],
   "source": [
    "df['first'].map({'alif':'robert','crazy':'amir'})"
   ]
  },
  {
   "cell_type": "code",
   "execution_count": 40,
   "id": "7754811e-3303-4211-a34a-cf1d82dc3315",
   "metadata": {},
   "outputs": [
    {
     "data": {
      "text/html": [
       "<div>\n",
       "<style scoped>\n",
       "    .dataframe tbody tr th:only-of-type {\n",
       "        vertical-align: middle;\n",
       "    }\n",
       "\n",
       "    .dataframe tbody tr th {\n",
       "        vertical-align: top;\n",
       "    }\n",
       "\n",
       "    .dataframe thead th {\n",
       "        text-align: right;\n",
       "    }\n",
       "</style>\n",
       "<table border=\"1\" class=\"dataframe\">\n",
       "  <thead>\n",
       "    <tr style=\"text-align: right;\">\n",
       "      <th></th>\n",
       "      <th>first</th>\n",
       "      <th>last</th>\n",
       "      <th>email</th>\n",
       "    </tr>\n",
       "  </thead>\n",
       "  <tbody>\n",
       "    <tr>\n",
       "      <th>0</th>\n",
       "      <td>robert</td>\n",
       "      <td>kamate</td>\n",
       "      <td>alif@gmail.com</td>\n",
       "    </tr>\n",
       "    <tr>\n",
       "      <th>1</th>\n",
       "      <td>kunal</td>\n",
       "      <td>chavan</td>\n",
       "      <td>kunal@gmail.com</td>\n",
       "    </tr>\n",
       "    <tr>\n",
       "      <th>2</th>\n",
       "      <td>amir</td>\n",
       "      <td>nadaf</td>\n",
       "      <td>kurkure@gmail.com</td>\n",
       "    </tr>\n",
       "  </tbody>\n",
       "</table>\n",
       "</div>"
      ],
      "text/plain": [
       "    first    last              email\n",
       "0  robert  kamate     alif@gmail.com\n",
       "1   kunal  chavan    kunal@gmail.com\n",
       "2    amir   nadaf  kurkure@gmail.com"
      ]
     },
     "execution_count": 40,
     "metadata": {},
     "output_type": "execute_result"
    }
   ],
   "source": [
    "df['first'] = df['first'].replace({'alif':'robert','crazy':'amir'})\n",
    "df"
   ]
  }
 ],
 "metadata": {
  "kernelspec": {
   "display_name": "Python 3 (ipykernel)",
   "language": "python",
   "name": "python3"
  },
  "language_info": {
   "codemirror_mode": {
    "name": "ipython",
    "version": 3
   },
   "file_extension": ".py",
   "mimetype": "text/x-python",
   "name": "python",
   "nbconvert_exporter": "python",
   "pygments_lexer": "ipython3",
   "version": "3.12.2"
  }
 },
 "nbformat": 4,
 "nbformat_minor": 5
}
